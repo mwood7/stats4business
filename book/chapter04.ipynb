{
 "cells": [
  {
   "cell_type": "markdown",
   "id": "7ad327ce",
   "metadata": {},
   "source": [
    "# Chapter 4\n",
    "\n",
    "text goes here"
   ]
  },
  {
   "cell_type": "markdown",
   "id": "225d43ce",
   "metadata": {},
   "source": []
  }
 ],
 "metadata": {
  "language_info": {
   "name": "python"
  }
 },
 "nbformat": 4,
 "nbformat_minor": 5
}

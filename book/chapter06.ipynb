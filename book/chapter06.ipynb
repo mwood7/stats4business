{
 "cells": [
  {
   "cell_type": "markdown",
   "id": "f4669de3",
   "metadata": {},
   "source": [
    "# Chapter 6\n",
    "\n",
    "text goes here"
   ]
  },
  {
   "cell_type": "markdown",
   "id": "65d07439",
   "metadata": {},
   "source": []
  }
 ],
 "metadata": {
  "language_info": {
   "name": "python"
  }
 },
 "nbformat": 4,
 "nbformat_minor": 5
}

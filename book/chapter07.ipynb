{
 "cells": [
  {
   "cell_type": "markdown",
   "id": "df8a155f",
   "metadata": {},
   "source": [
    "# Chapter 7\n",
    "\n",
    "text goes here\n"
   ]
  },
  {
   "cell_type": "markdown",
   "id": "1b84bbdd",
   "metadata": {},
   "source": []
  }
 ],
 "metadata": {
  "language_info": {
   "name": "python"
  }
 },
 "nbformat": 4,
 "nbformat_minor": 5
}

{
 "cells": [
  {
   "cell_type": "markdown",
   "id": "5eadf633",
   "metadata": {},
   "source": [
    "# Chapter 3\n",
    "\n",
    "Text goes here"
   ]
  },
  {
   "cell_type": "markdown",
   "id": "06e49a3b",
   "metadata": {},
   "source": []
  }
 ],
 "metadata": {
  "language_info": {
   "name": "python"
  }
 },
 "nbformat": 4,
 "nbformat_minor": 5
}

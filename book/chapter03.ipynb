# Chapter 3:

Text goes here

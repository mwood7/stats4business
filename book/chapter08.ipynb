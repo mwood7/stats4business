{
 "cells": [
  {
   "cell_type": "markdown",
   "id": "afb3ae65",
   "metadata": {},
   "source": [
    "# Chapter 8\n",
    "\n",
    "text goes here"
   ]
  },
  {
   "cell_type": "markdown",
   "id": "fbc1f7f2",
   "metadata": {},
   "source": []
  }
 ],
 "metadata": {
  "language_info": {
   "name": "python"
  }
 },
 "nbformat": 4,
 "nbformat_minor": 5
}

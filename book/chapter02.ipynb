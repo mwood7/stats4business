{
 "cells": [
  {
   "cell_type": "markdown",
   "id": "d98fcd30-267d-43f8-9a90-668c2a0930c6",
   "metadata": {},
   "source": [
    "# Introduction to Statistics\n",
    "\n",
    "The book begins here.  Asli! "
   ]
  },
  {
   "cell_type": "code",
   "execution_count": null,
   "id": "bf45a479",
   "metadata": {},
   "outputs": [],
   "source": []
  },
  {
   "cell_type": "code",
   "execution_count": null,
   "id": "c9c30391-2589-4787-a7f8-5786b642ad39",
   "metadata": {},
   "outputs": [],
   "source": []
  }
 ],
 "metadata": {
  "kernelspec": {
   "display_name": "Python 3 (ipykernel)",
   "language": "python",
   "name": "python3"
  },
  "language_info": {
   "codemirror_mode": {
    "name": "ipython",
    "version": 3
   },
   "file_extension": ".py",
   "mimetype": "text/x-python",
   "name": "python",
   "nbconvert_exporter": "python",
   "pygments_lexer": "ipython3",
   "version": "3.11.8"
  }
 },
 "nbformat": 4,
 "nbformat_minor": 5
}

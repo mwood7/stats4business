{
 "cells": [
  {
   "cell_type": "markdown",
   "id": "d24df0c9",
   "metadata": {},
   "source": [
    "# Chapter 5\n",
    "\n",
    "text goes here"
   ]
  },
  {
   "cell_type": "markdown",
   "id": "4d4f8aee",
   "metadata": {},
   "source": []
  }
 ],
 "metadata": {
  "language_info": {
   "name": "python"
  }
 },
 "nbformat": 4,
 "nbformat_minor": 5
}
